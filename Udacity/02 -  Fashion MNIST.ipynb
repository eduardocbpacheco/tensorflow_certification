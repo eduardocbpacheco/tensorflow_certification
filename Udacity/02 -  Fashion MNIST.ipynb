{
 "cells": [
  {
   "cell_type": "markdown",
   "metadata": {},
   "source": [
    "### Módulo 2: Treinar seu primero modelo, Fashion MINIST\n",
    "\n",
    "O objetivo aqui é treinar um modelo para identificar diferentes peças de roupas."
   ]
  },
  {
   "cell_type": "code",
   "execution_count": 1,
   "metadata": {},
   "outputs": [
    {
     "name": "stderr",
     "output_type": "stream",
     "text": [
      "2023-02-04 22:27:33.047947: I tensorflow/core/platform/cpu_feature_guard.cc:193] This TensorFlow binary is optimized with oneAPI Deep Neural Network Library (oneDNN) to use the following CPU instructions in performance-critical operations:  AVX2 FMA\n",
      "To enable them in other operations, rebuild TensorFlow with the appropriate compiler flags.\n",
      "2023-02-04 22:27:36.886579: W tensorflow/compiler/xla/stream_executor/platform/default/dso_loader.cc:64] Could not load dynamic library 'libcudart.so.11.0'; dlerror: libcudart.so.11.0: cannot open shared object file: No such file or directory\n",
      "2023-02-04 22:27:36.886607: I tensorflow/compiler/xla/stream_executor/cuda/cudart_stub.cc:29] Ignore above cudart dlerror if you do not have a GPU set up on your machine.\n",
      "2023-02-04 22:27:47.443635: W tensorflow/compiler/xla/stream_executor/platform/default/dso_loader.cc:64] Could not load dynamic library 'libnvinfer.so.7'; dlerror: libnvinfer.so.7: cannot open shared object file: No such file or directory\n",
      "2023-02-04 22:27:47.443903: W tensorflow/compiler/xla/stream_executor/platform/default/dso_loader.cc:64] Could not load dynamic library 'libnvinfer_plugin.so.7'; dlerror: libnvinfer_plugin.so.7: cannot open shared object file: No such file or directory\n",
      "2023-02-04 22:27:47.443924: W tensorflow/compiler/tf2tensorrt/utils/py_utils.cc:38] TF-TRT Warning: Cannot dlopen some TensorRT libraries. If you would like to use Nvidia GPU with TensorRT, please make sure the missing libraries mentioned above are installed properly.\n"
     ]
    }
   ],
   "source": [
    "import tensorflow as tf"
   ]
  },
  {
   "cell_type": "code",
   "execution_count": 2,
   "metadata": {},
   "outputs": [
    {
     "name": "stderr",
     "output_type": "stream",
     "text": [
      "/home/edu/.local/lib/python3.8/site-packages/tqdm/auto.py:22: TqdmWarning: IProgress not found. Please update jupyter and ipywidgets. See https://ipywidgets.readthedocs.io/en/stable/user_install.html\n",
      "  from .autonotebook import tqdm as notebook_tqdm\n"
     ]
    }
   ],
   "source": [
    "# Import TensorFlow Datasets\n",
    "import tensorflow_datasets as tfds\n",
    "tfds.disable_progress_bar()\n",
    "\n",
    "# Helper libraries\n",
    "import math\n",
    "import numpy as np\n",
    "import matplotlib.pyplot as plt"
   ]
  },
  {
   "cell_type": "code",
   "execution_count": 3,
   "metadata": {},
   "outputs": [],
   "source": [
    "import logging\n",
    "logger = tf.get_logger()\n",
    "logger.setLevel(logging.ERROR)"
   ]
  },
  {
   "cell_type": "code",
   "execution_count": 19,
   "metadata": {},
   "outputs": [],
   "source": [
    "dataset, metadata = tfds.load('fashion_mnist', as_supervised=True, with_info=True)\n",
    "train_dataset, test_dataset = dataset['train'], dataset['test']"
   ]
  },
  {
   "cell_type": "code",
   "execution_count": 20,
   "metadata": {},
   "outputs": [
    {
     "name": "stdout",
     "output_type": "stream",
     "text": [
      "Class names: ['T-shirt/top', 'Trouser', 'Pullover', 'Dress', 'Coat', 'Sandal', 'Shirt', 'Sneaker', 'Bag', 'Ankle boot']\n"
     ]
    }
   ],
   "source": [
    "class_names = metadata.features['label'].names\n",
    "print(\"Class names: {}\".format(class_names))"
   ]
  },
  {
   "cell_type": "code",
   "execution_count": 21,
   "metadata": {},
   "outputs": [
    {
     "name": "stdout",
     "output_type": "stream",
     "text": [
      "Número de exemplos de treino: 60000\n",
      "número de exemplos de teste:     10000\n"
     ]
    }
   ],
   "source": [
    "num_train_examples = metadata.splits['train'].num_examples\n",
    "num_test_examples = metadata.splits['test'].num_examples\n",
    "print(\"Número de exemplos de treino: {}\".format(num_train_examples))\n",
    "print(\"número de exemplos de teste:     {}\".format(num_test_examples))"
   ]
  },
  {
   "cell_type": "code",
   "execution_count": 22,
   "metadata": {},
   "outputs": [],
   "source": [
    "def normalize(images, labels):\n",
    "  images = tf.cast(images, tf.float32)\n",
    "  images /= 255\n",
    "  return images, labels\n",
    "\n",
    "# The map function applies the normalize function to each element in the train\n",
    "# and test datasets\n",
    "train_dataset =  train_dataset.map(normalize)\n",
    "test_dataset  =  test_dataset.map(normalize)\n",
    "\n",
    "\n",
    "#train_dataset =  train_dataset.cache()\n",
    "#test_dataset  =  test_dataset.cache()"
   ]
  },
  {
   "cell_type": "markdown",
   "metadata": {},
   "source": [
    "Vamos ver como uma imagem se parece:"
   ]
  },
  {
   "cell_type": "code",
   "execution_count": 23,
   "metadata": {},
   "outputs": [
    {
     "name": "stderr",
     "output_type": "stream",
     "text": [
      "2023-02-04 22:31:48.994606: W tensorflow/core/kernels/data/cache_dataset_ops.cc:856] The calling iterator did not fully read the dataset being cached. In order to avoid unexpected truncation of the dataset, the partially cached contents of the dataset  will be discarded. This can happen if you have an input pipeline similar to `dataset.cache().take(k).repeat()`. You should use `dataset.take(k).cache().repeat()` instead.\n"
     ]
    },
    {
     "data": {
      "image/png": "[encoded data removed]",
      "text/plain": [
       "<Figure size 640x480 with 2 Axes>"
      ]
     },
     "metadata": {},
     "output_type": "display_data"
    }
   ],
   "source": [
    "# Take a single image, and remove the color dimension by reshaping\n",
    "for image, label in test_dataset.take(1):\n",
    "  break\n",
    "image = image.numpy().reshape((28,28))\n",
    "\n",
    "# Plot the image - voila a piece of fashion clothing\n",
    "plt.figure()\n",
    "plt.imshow(image, cmap=plt.cm.binary)\n",
    "plt.colorbar()\n",
    "plt.grid(False)\n",
    "plt.show()"
   ]
  },
  {
   "cell_type": "markdown",
   "metadata": {},
   "source": [
    "### Construir o Modelo\n",
    "\n",
    "Para treinar um modelo primeiro precisamos definir sua arquitetura, e então compilar e depois treinar.\n",
    "\n",
    "A definição da arquitetura acontece definindo as camadas e os neurônios - faremos isso usando a Sequential API. Depois, ao compilar, definiremos a função de perda e o otimizador. No treinamento daremos o fit entre os dados de treino e o rótulo para que, usando o otimizador, se reduza a perda (calculada na função de perda.)"
   ]
  },
  {
   "cell_type": "code",
   "execution_count": 24,
   "metadata": {},
   "outputs": [],
   "source": [
    "\n",
    "model = tf.keras.Sequential([\n",
    "    tf.keras.layers.Flatten(input_shape=(28, 28, 1)), #camada inicial: 28x28 e 1 canal ( tons de cinza), 1 neurônio por pixel, então \n",
    "    tf.keras.layers.Dense(128, activation=tf.nn.relu),# camada oculta, 128 neurônios usando relu como função de ativação\n",
    "    tf.keras.layers.Dense(10, activation=tf.nn.softmax) # como são 10 classes de saída então é um sofmax como função de ativação com 10 neurônios\n",
    "])"
   ]
  },
  {
   "attachments": {},
   "cell_type": "markdown",
   "metadata": {},
   "source": [
    "Agora vamos compilar o modelo: para issi definiremos a função de perda e o otimizador, além da métrica usada para monitorar o desempenho geral do modelo. Usaremos acurácia."
   ]
  },
  {
   "cell_type": "code",
   "execution_count": 25,
   "metadata": {},
   "outputs": [],
   "source": [
    "model.compile(optimizer='adam',\n",
    "              loss=tf.keras.losses.SparseCategoricalCrossentropy(), #isso pq é uma classificação excludente\n",
    "              metrics=['accuracy'])"
   ]
  },
  {
   "cell_type": "code",
   "execution_count": 26,
   "metadata": {},
   "outputs": [],
   "source": [
    "BATCH_SIZE = 16\n",
    "train_dataset = train_dataset.cache().repeat().shuffle(num_train_examples).batch(BATCH_SIZE)\n",
    "test_dataset = test_dataset.cache().batch(BATCH_SIZE)\n"
   ]
  },
  {
   "cell_type": "code",
   "execution_count": 27,
   "metadata": {},
   "outputs": [
    {
     "name": "stdout",
     "output_type": "stream",
     "text": [
      "Epoch 1/5\n",
      "3750/3750 [==============================] - 12s 3ms/step - loss: 0.4827 - accuracy: 0.8283\n",
      "Epoch 2/5\n",
      "3750/3750 [==============================] - 10s 3ms/step - loss: 0.3656 - accuracy: 0.8679\n",
      "Epoch 3/5\n",
      "3750/3750 [==============================] - 10s 3ms/step - loss: 0.3268 - accuracy: 0.8813\n",
      "Epoch 4/5\n",
      "3750/3750 [==============================] - 10s 3ms/step - loss: 0.3030 - accuracy: 0.8872\n",
      "Epoch 5/5\n",
      "3750/3750 [==============================] - 10s 3ms/step - loss: 0.2896 - accuracy: 0.8931\n"
     ]
    },
    {
     "data": {
      "text/plain": [
       "<keras.callbacks.History at 0x7f10f4779220>"
      ]
     },
     "execution_count": 27,
     "metadata": {},
     "output_type": "execute_result"
    }
   ],
   "source": [
    "\n",
    "model.fit(train_dataset, epochs=5, steps_per_epoch=math.ceil(num_train_examples/BATCH_SIZE))"
   ]
  },
  {
   "cell_type": "markdown",
   "metadata": {},
   "source": [
    "Agora vamos avaliar a acurácia:"
   ]
  },
  {
   "cell_type": "code",
   "execution_count": 28,
   "metadata": {},
   "outputs": [
    {
     "name": "stdout",
     "output_type": "stream",
     "text": [
      "625/625 [==============================] - 1s 1ms/step - loss: 0.3518 - accuracy: 0.8747\n",
      "Acurácia no testset 0.8747000098228455\n"
     ]
    }
   ],
   "source": [
    "test_loss, test_accuracy = model.evaluate(test_dataset)\n",
    "print('Acurácia no testset', test_accuracy)"
   ]
  },
  {
   "cell_type": "markdown",
   "metadata": {},
   "source": [
    "Em seguida vamos fazer algumas previsões/inferências:"
   ]
  },
  {
   "cell_type": "code",
   "execution_count": 29,
   "metadata": {},
   "outputs": [
    {
     "name": "stdout",
     "output_type": "stream",
     "text": [
      "1/1 [==============================] - 0s 492ms/step\n"
     ]
    }
   ],
   "source": [
    "for test_images, test_labels in test_dataset.take(1):\n",
    "  test_images = test_images.numpy()\n",
    "  test_labels = test_labels.numpy()\n",
    "  predictions = model.predict(test_images)"
   ]
  },
  {
   "cell_type": "code",
   "execution_count": 30,
   "metadata": {},
   "outputs": [
    {
     "data": {
      "text/plain": [
       "(16, 10)"
      ]
     },
     "execution_count": 30,
     "metadata": {},
     "output_type": "execute_result"
    }
   ],
   "source": [
    "predictions.shape"
   ]
  },
  {
   "cell_type": "code",
   "execution_count": 31,
   "metadata": {},
   "outputs": [
    {
     "data": {
      "text/plain": [
       "4"
      ]
     },
     "execution_count": 31,
     "metadata": {},
     "output_type": "execute_result"
    }
   ],
   "source": [
    "np.argmax(predictions[0])"
   ]
  },
  {
   "cell_type": "code",
   "execution_count": 32,
   "metadata": {},
   "outputs": [
    {
     "data": {
      "text/plain": [
       "4"
      ]
     },
     "execution_count": 32,
     "metadata": {},
     "output_type": "execute_result"
    }
   ],
   "source": [
    "test_labels[0]"
   ]
  },
  {
   "cell_type": "code",
   "execution_count": 33,
   "metadata": {},
   "outputs": [],
   "source": [
    "def plot_image(i, predictions_array, true_labels, images):\n",
    "  predictions_array, true_label, img = predictions_array[i], true_labels[i], images[i]\n",
    "  plt.grid(False)\n",
    "  plt.xticks([])\n",
    "  plt.yticks([])\n",
    "  \n",
    "  plt.imshow(img[...,0], cmap=plt.cm.binary)\n",
    "\n",
    "  predicted_label = np.argmax(predictions_array)\n",
    "  if predicted_label == true_label:\n",
    "    color = 'blue'\n",
    "  else:\n",
    "    color = 'red'\n",
    "  \n",
    "  plt.xlabel(\"{} {:2.0f}% ({})\".format(class_names[predicted_label],\n",
    "                                100*np.max(predictions_array),\n",
    "                                class_names[true_label]),\n",
    "                                color=color)\n",
    "\n",
    "def plot_value_array(i, predictions_array, true_label):\n",
    "  predictions_array, true_label = predictions_array[i], true_label[i]\n",
    "  plt.grid(False)\n",
    "  plt.xticks([])\n",
    "  plt.yticks([])\n",
    "  thisplot = plt.bar(range(10), predictions_array, color=\"#777777\")\n",
    "  plt.ylim([0, 1]) \n",
    "  predicted_label = np.argmax(predictions_array)\n",
    "  \n",
    "  thisplot[predicted_label].set_color('red')\n",
    "  thisplot[true_label].set_color('blue')"
   ]
  },
  {
   "cell_type": "code",
   "execution_count": 34,
   "metadata": {},
   "outputs": [
    {
     "data": {
      "image/png": "[encoded data removed]",
      "text/plain": [
       "<Figure size 600x300 with 2 Axes>"
      ]
     },
     "metadata": {},
     "output_type": "display_data"
    }
   ],
   "source": [
    "i = 0\n",
    "plt.figure(figsize=(6,3))\n",
    "plt.subplot(1,2,1)\n",
    "plot_image(i, predictions, test_labels, test_images)\n",
    "plt.subplot(1,2,2)\n",
    "plot_value_array(i, predictions, test_labels)"
   ]
  },
  {
   "cell_type": "code",
   "execution_count": 35,
   "metadata": {},
   "outputs": [
    {
     "data": {
      "image/png": "[encoded data removed]",
      "text/plain": [
       "<Figure size 600x300 with 2 Axes>"
      ]
     },
     "metadata": {},
     "output_type": "display_data"
    }
   ],
   "source": [
    "i = 12\n",
    "plt.figure(figsize=(6,3))\n",
    "plt.subplot(1,2,1)\n",
    "plot_image(i, predictions, test_labels, test_images)\n",
    "plt.subplot(1,2,2)\n",
    "plot_value_array(i, predictions, test_labels)"
   ]
  },
  {
   "cell_type": "code",
   "execution_count": 36,
   "metadata": {},
   "outputs": [
    {
     "data": {
      "image/png": "[encoded data removed]",
      "text/plain": [
       "<Figure size 1200x1000 with 30 Axes>"
      ]
     },
     "metadata": {},
     "output_type": "display_data"
    }
   ],
   "source": [
    "# imprime algumas imagens, sendo azul as previsões corretas e vermelho as incorretas\n",
    "num_rows = 5\n",
    "num_cols = 3\n",
    "num_images = num_rows*num_cols\n",
    "plt.figure(figsize=(2*2*num_cols, 2*num_rows))\n",
    "for i in range(num_images):\n",
    "  plt.subplot(num_rows, 2*num_cols, 2*i+1)\n",
    "  plot_image(i, predictions, test_labels, test_images)\n",
    "  plt.subplot(num_rows, 2*num_cols, 2*i+2)\n",
    "  plot_value_array(i, predictions, test_labels)\n"
   ]
  },
  {
   "cell_type": "code",
   "execution_count": 37,
   "metadata": {},
   "outputs": [
    {
     "name": "stdout",
     "output_type": "stream",
     "text": [
      "(28, 28, 1)\n"
     ]
    }
   ],
   "source": [
    "# vamos agora fazer a previsão de uma imagem individualmente considerada\n",
    "img = test_images[0]\n",
    "\n",
    "print(img.shape)"
   ]
  },
  {
   "cell_type": "code",
   "execution_count": 38,
   "metadata": {},
   "outputs": [
    {
     "name": "stdout",
     "output_type": "stream",
     "text": [
      "(1, 28, 28, 1)\n"
     ]
    }
   ],
   "source": [
    "img = np.array([img])\n",
    "\n",
    "print(img.shape)"
   ]
  },
  {
   "cell_type": "code",
   "execution_count": 39,
   "metadata": {},
   "outputs": [
    {
     "name": "stdout",
     "output_type": "stream",
     "text": [
      "1/1 [==============================] - 0s 43ms/step\n",
      "[[6.9203652e-06 2.1923202e-07 6.2245526e-03 7.8389817e-08 9.8027712e-01\n",
      "  9.9460828e-11 1.3489111e-02 4.7792039e-08 1.9389245e-06 1.1668968e-09]]\n"
     ]
    }
   ],
   "source": [
    "predictions_single = model.predict(img)\n",
    "\n",
    "print(predictions_single)"
   ]
  },
  {
   "cell_type": "code",
   "execution_count": 40,
   "metadata": {},
   "outputs": [
    {
     "data": {
      "image/png": "[encoded data removed]",
      "text/plain": [
       "<Figure size 640x480 with 1 Axes>"
      ]
     },
     "metadata": {},
     "output_type": "display_data"
    }
   ],
   "source": [
    "plot_value_array(0, predictions_single, test_labels)\n",
    "_ = plt.xticks(range(10), class_names, rotation=45)"
   ]
  },
  {
   "cell_type": "code",
   "execution_count": 41,
   "metadata": {},
   "outputs": [
    {
     "data": {
      "text/plain": [
       "4"
      ]
     },
     "execution_count": 41,
     "metadata": {},
     "output_type": "execute_result"
    }
   ],
   "source": [
    "np.argmax(predictions_single[0])"
   ]
  },
  {
   "attachments": {},
   "cell_type": "markdown",
   "metadata": {},
   "source": [
    "#### Exercises\n",
    "\n",
    "Experiment with different models and see how the accuracy results differ. In particular change the following parameters:\n",
    "\n",
    "1. Set training epochs set to 1\n",
    "2. Number of neurons in the Dense layer following the Flatten one. For example, go really low (e.g. 10) in ranges up to 512 and see how accuracy changes\n",
    "3. Add additional Dense layers between the Flatten and the final Dense(10), experiment with different units in these layers\n",
    "4. Don't normalize the pixel values, and see the effect that has"
   ]
  },
  {
   "attachments": {},
   "cell_type": "markdown",
   "metadata": {},
   "source": [
    "##### 1. Efeito das épocas :"
   ]
  },
  {
   "cell_type": "code",
   "execution_count": 42,
   "metadata": {},
   "outputs": [
    {
     "name": "stdout",
     "output_type": "stream",
     "text": [
      "Acurácia no testset 0.8747000098228455\n"
     ]
    }
   ],
   "source": [
    "print('Acurácia no testset', test_accuracy)"
   ]
  },
  {
   "cell_type": "code",
   "execution_count": 43,
   "metadata": {},
   "outputs": [],
   "source": [
    "model = tf.keras.Sequential([\n",
    "    tf.keras.layers.Flatten(input_shape=(28, 28, 1)), #camada inicial: 28x28 e 1 canal ( tons de cinza), 1 neurônio por pixel, então \n",
    "    tf.keras.layers.Dense(128, activation=tf.nn.relu),# camada oculta, 128 neurônios usando relu como função de ativação\n",
    "    tf.keras.layers.Dense(10, activation=tf.nn.softmax) # como são 10 classes de saída então é um sofmax como função de ativação com 10 neurônios\n",
    "])"
   ]
  },
  {
   "cell_type": "code",
   "execution_count": 44,
   "metadata": {},
   "outputs": [],
   "source": [
    "model.compile(optimizer='adam',\n",
    "              loss=tf.keras.losses.SparseCategoricalCrossentropy(), #isso pq é uma classificação excludente\n",
    "              metrics=['accuracy'])"
   ]
  },
  {
   "cell_type": "code",
   "execution_count": 30,
   "metadata": {},
   "outputs": [],
   "source": [
    "#BATCH_SIZE = 16\n",
    "#train_dataset = train_dataset.cache().repeat().shuffle(num_train_examples).batch(BATCH_SIZE)\n",
    "#test_dataset = test_dataset.cache().batch(BATCH_SIZE)"
   ]
  },
  {
   "cell_type": "code",
   "execution_count": 45,
   "metadata": {},
   "outputs": [
    {
     "name": "stdout",
     "output_type": "stream",
     "text": [
      "3750/3750 [==============================] - 11s 3ms/step - loss: 0.4833 - accuracy: 0.8274\n"
     ]
    },
    {
     "data": {
      "text/plain": [
       "<keras.callbacks.History at 0x7f10f57e53d0>"
      ]
     },
     "execution_count": 45,
     "metadata": {},
     "output_type": "execute_result"
    }
   ],
   "source": [
    "\n",
    "model.fit(train_dataset, epochs=1, steps_per_epoch=math.ceil(num_train_examples/BATCH_SIZE))"
   ]
  },
  {
   "cell_type": "code",
   "execution_count": 46,
   "metadata": {},
   "outputs": [
    {
     "name": "stdout",
     "output_type": "stream",
     "text": [
      "625/625 [==============================] - 1s 1ms/step - loss: 0.4073 - accuracy: 0.8511\n",
      "Acurácia no testset 0.8511000275611877\n"
     ]
    }
   ],
   "source": [
    "test_loss, test_accuracy = model.evaluate(test_dataset)\n",
    "print('Acurácia no testset', test_accuracy)"
   ]
  },
  {
   "attachments": {},
   "cell_type": "markdown",
   "metadata": {},
   "source": [
    "Com menos épocas o modelo não chegou na acurácia total que poderia: atingiu 82 % enquanto poderia chegar a 87% em 5 épocas."
   ]
  },
  {
   "attachments": {},
   "cell_type": "markdown",
   "metadata": {},
   "source": [
    "### 2. Efeito do número de neurônios\n",
    "Vamos testar 10, 50, 250 e 500."
   ]
  },
  {
   "cell_type": "code",
   "execution_count": 48,
   "metadata": {},
   "outputs": [
    {
     "name": "stdout",
     "output_type": "stream",
     "text": [
      "Epoch 1/5\n",
      "3750/3750 [==============================] - 7s 2ms/step - loss: 0.6149 - accuracy: 0.7915\n",
      "Epoch 2/5\n",
      "3750/3750 [==============================] - 5s 1ms/step - loss: 0.4575 - accuracy: 0.8395\n",
      "Epoch 3/5\n",
      "3750/3750 [==============================] - 5s 1ms/step - loss: 0.4309 - accuracy: 0.8507\n",
      "Epoch 4/5\n",
      "3750/3750 [==============================] - 5s 1ms/step - loss: 0.4145 - accuracy: 0.8546\n",
      "Epoch 5/5\n",
      "3750/3750 [==============================] - 6s 1ms/step - loss: 0.4108 - accuracy: 0.8550\n",
      "625/625 [==============================] - 1s 1ms/step - loss: 0.4749 - accuracy: 0.8313\n",
      "acurácia 10 neuronios : 0.8313000202178955 \n",
      "Epoch 1/5\n",
      "3750/3750 [==============================] - 8s 2ms/step - loss: 0.5156 - accuracy: 0.8202\n",
      "Epoch 2/5\n",
      "3750/3750 [==============================] - 7s 2ms/step - loss: 0.3869 - accuracy: 0.8611\n",
      "Epoch 3/5\n",
      "3750/3750 [==============================] - 7s 2ms/step - loss: 0.3550 - accuracy: 0.8706\n",
      "Epoch 4/5\n",
      "3750/3750 [==============================] - 7s 2ms/step - loss: 0.3278 - accuracy: 0.8798\n",
      "Epoch 5/5\n",
      "3750/3750 [==============================] - 7s 2ms/step - loss: 0.3123 - accuracy: 0.8858\n",
      "625/625 [==============================] - 1s 1ms/step - loss: 0.3608 - accuracy: 0.8710\n",
      "acurácia 50 neuronios : 0.8709999918937683 \n",
      "Epoch 1/5\n",
      "3750/3750 [==============================] - 16s 4ms/step - loss: 0.4778 - accuracy: 0.8298\n",
      "Epoch 2/5\n",
      "3750/3750 [==============================] - 16s 4ms/step - loss: 0.3616 - accuracy: 0.8672\n",
      "Epoch 3/5\n",
      "3750/3750 [==============================] - 17s 4ms/step - loss: 0.3208 - accuracy: 0.8808\n",
      "Epoch 4/5\n",
      "3750/3750 [==============================] - 21s 6ms/step - loss: 0.2992 - accuracy: 0.8899\n",
      "Epoch 5/5\n",
      "3750/3750 [==============================] - 27s 7ms/step - loss: 0.2817 - accuracy: 0.8943\n",
      "625/625 [==============================] - 7s 4ms/step - loss: 0.3431 - accuracy: 0.8775\n",
      "acurácia 250 neuronios : 0.8774999976158142 \n",
      "Epoch 1/5\n",
      "3750/3750 [==============================] - 38s 10ms/step - loss: 0.4709 - accuracy: 0.8310\n",
      "Epoch 2/5\n",
      "3750/3750 [==============================] - 34s 9ms/step - loss: 0.3545 - accuracy: 0.8696\n",
      "Epoch 3/5\n",
      "3750/3750 [==============================] - 32s 9ms/step - loss: 0.3205 - accuracy: 0.8815\n",
      "Epoch 4/5\n",
      "3750/3750 [==============================] - 31s 8ms/step - loss: 0.2954 - accuracy: 0.8906\n",
      "Epoch 5/5\n",
      "3750/3750 [==============================] - 30s 8ms/step - loss: 0.2842 - accuracy: 0.8946\n",
      "625/625 [==============================] - 1s 2ms/step - loss: 0.3517 - accuracy: 0.8713\n",
      "acurácia 500 neuronios : 0.8712999820709229 \n"
     ]
    }
   ],
   "source": [
    "neuronios = [10,50,250,500]\n",
    "\n",
    "\n",
    "for n_neuronios in neuronios :\n",
    "    model = tf.keras.Sequential([\n",
    "        tf.keras.layers.Flatten(input_shape=(28, 28, 1)), #camada inicial: 28x28 e 1 canal ( tons de cinza), 1 neurônio por pixel, então \n",
    "        tf.keras.layers.Dense(n_neuronios, activation=tf.nn.relu),# camada oculta, X neurônios usando relu como função de ativação\n",
    "        tf.keras.layers.Dense(10, activation=tf.nn.softmax) # como são 10 classes de saída então é um sofmax como função de ativação com 10 neurônios\n",
    "    ])\n",
    "    model.compile(optimizer='adam',\n",
    "              loss=tf.keras.losses.SparseCategoricalCrossentropy(), #isso pq é uma classificação excludente\n",
    "              metrics=['accuracy'])\n",
    "\n",
    "    model.fit(train_dataset, epochs=5, steps_per_epoch=math.ceil(num_train_examples/BATCH_SIZE))\n",
    "    test_loss, test_accuracy = model.evaluate(test_dataset)\n",
    "    print('acurácia {} neuronios : {} '.format(n_neuronios, test_accuracy))"
   ]
  },
  {
   "attachments": {},
   "cell_type": "markdown",
   "metadata": {},
   "source": [
    "Aumentar os neurônios em geral aumenta a acurácia."
   ]
  },
  {
   "attachments": {},
   "cell_type": "markdown",
   "metadata": {},
   "source": [
    "#### 3. Efeitos das Dense Layers\n",
    "\n",
    "Vamos testar o efeito de adicionar camadas, mantenho fixo o número de neurônios."
   ]
  },
  {
   "cell_type": "code",
   "execution_count": 54,
   "metadata": {},
   "outputs": [
    {
     "name": "stdout",
     "output_type": "stream",
     "text": [
      "número de camadas  1\n",
      "camada oculta  1\n",
      "Epoch 1/5\n",
      "3750/3750 [==============================] - 29s 8ms/step - loss: 0.4711 - accuracy: 0.8297\n",
      "Epoch 2/5\n",
      "3750/3750 [==============================] - 29s 8ms/step - loss: 0.3556 - accuracy: 0.8702\n",
      "Epoch 3/5\n",
      "3750/3750 [==============================] - 31s 8ms/step - loss: 0.3213 - accuracy: 0.8803\n",
      "Epoch 4/5\n",
      "3750/3750 [==============================] - 31s 8ms/step - loss: 0.2958 - accuracy: 0.8901\n",
      "Epoch 5/5\n",
      "3750/3750 [==============================] - 34s 9ms/step - loss: 0.2829 - accuracy: 0.8945\n",
      "625/625 [==============================] - 1s 2ms/step - loss: 0.3612 - accuracy: 0.8717\n",
      "acurácia 500 neuronios : 0.8716999888420105 \n",
      "número de camadas  2\n",
      "camada oculta  1\n",
      "camada oculta  2\n",
      "Epoch 1/5\n",
      "3750/3750 [==============================] - 25s 6ms/step - loss: 0.4721 - accuracy: 0.8285\n",
      "Epoch 2/5\n",
      "3750/3750 [==============================] - 23s 6ms/step - loss: 0.3579 - accuracy: 0.8682\n",
      "Epoch 3/5\n",
      "3750/3750 [==============================] - 27s 7ms/step - loss: 0.3263 - accuracy: 0.8797\n",
      "Epoch 4/5\n",
      "3750/3750 [==============================] - 23s 6ms/step - loss: 0.3019 - accuracy: 0.8875\n",
      "Epoch 5/5\n",
      "3750/3750 [==============================] - 16s 4ms/step - loss: 0.2867 - accuracy: 0.8933\n",
      "625/625 [==============================] - 1s 1ms/step - loss: 0.3600 - accuracy: 0.8731\n",
      "acurácia 500 neuronios : 0.8730999827384949 \n",
      "número de camadas  4\n",
      "camada oculta  1\n",
      "camada oculta  2\n",
      "camada oculta  3\n",
      "camada oculta  4\n",
      "Epoch 1/5\n",
      "3750/3750 [==============================] - 12s 3ms/step - loss: 0.4958 - accuracy: 0.8192\n",
      "Epoch 2/5\n",
      "3750/3750 [==============================] - 16s 4ms/step - loss: 0.3756 - accuracy: 0.8638\n",
      "Epoch 3/5\n",
      "3750/3750 [==============================] - 13s 4ms/step - loss: 0.3428 - accuracy: 0.8762\n",
      "Epoch 4/5\n",
      "3750/3750 [==============================] - 14s 4ms/step - loss: 0.3220 - accuracy: 0.8798\n",
      "Epoch 5/5\n",
      "3750/3750 [==============================] - 11s 3ms/step - loss: 0.3041 - accuracy: 0.8889\n",
      "625/625 [==============================] - 1s 2ms/step - loss: 0.3466 - accuracy: 0.8795\n",
      "acurácia 500 neuronios : 0.8794999718666077 \n",
      "número de camadas  5\n",
      "camada oculta  1\n",
      "camada oculta  2\n",
      "camada oculta  3\n",
      "camada oculta  4\n",
      "camada oculta  5\n",
      "Epoch 1/5\n",
      "3750/3750 [==============================] - 13s 3ms/step - loss: 0.5103 - accuracy: 0.8144\n",
      "Epoch 2/5\n",
      "3750/3750 [==============================] - 12s 3ms/step - loss: 0.3874 - accuracy: 0.8604\n",
      "Epoch 3/5\n",
      "3750/3750 [==============================] - 11s 3ms/step - loss: 0.3562 - accuracy: 0.8712\n",
      "Epoch 4/5\n",
      "3750/3750 [==============================] - 12s 3ms/step - loss: 0.3301 - accuracy: 0.8786\n",
      "Epoch 5/5\n",
      "3750/3750 [==============================] - 11s 3ms/step - loss: 0.3125 - accuracy: 0.8844\n",
      "625/625 [==============================] - 1s 2ms/step - loss: 0.3625 - accuracy: 0.8662\n",
      "acurácia 500 neuronios : 0.8661999702453613 \n"
     ]
    }
   ],
   "source": [
    "neuronios = 500\n",
    "camadas = [1,2,4,5]\n",
    "\n",
    "for n_camadas in camadas:\n",
    "    print('número de camadas ',n_camadas)\n",
    "    model = tf.keras.Sequential()\n",
    "    model.add(tf.keras.layers.Flatten(input_shape=(28, 28, 1)))\n",
    "    #camada inicial: 28x28 e 1 canal ( tons de cinza), 1 neurônio por pixel, então\n",
    "    for i in range(1,n_camadas+1):\n",
    "        print('camada oculta ', i)\n",
    "        model.add(tf.keras.layers.Dense(neuronios/n_camadas, activation=tf.nn.relu))# camada oculta, X neurônios usando relu como função de ativação\n",
    "    model.add(tf.keras.layers.Dense(10, activation=tf.nn.softmax)) # como são 10 classes de saída então é um sofmax como função de ativação com 10 neurônios\n",
    "    \n",
    "    model.compile(optimizer='adam',\n",
    "              loss=tf.keras.losses.SparseCategoricalCrossentropy(), #isso pq é uma classificação excludente\n",
    "              metrics=['accuracy'])\n",
    "\n",
    "    model.fit(train_dataset, epochs=5, steps_per_epoch=math.ceil(num_train_examples/BATCH_SIZE))\n",
    "    test_loss, test_accuracy = model.evaluate(test_dataset)\n",
    "    print('acurácia {} neuronios : {} '.format(n_neuronios, test_accuracy))"
   ]
  },
  {
   "attachments": {},
   "cell_type": "markdown",
   "metadata": {},
   "source": [
    "Mantendo o número constante de neurônios e aumentando o número de camadas existiu uma oscilação na acurácia do testset."
   ]
  },
  {
   "attachments": {},
   "cell_type": "markdown",
   "metadata": {},
   "source": [
    "### 4. Efeito da não normalização dos pixels\n",
    "\n"
   ]
  },
  {
   "cell_type": "code",
   "execution_count": 55,
   "metadata": {},
   "outputs": [],
   "source": [
    "dataset, metadata = tfds.load('fashion_mnist', as_supervised=True, with_info=True)\n",
    "train_dataset, test_dataset = dataset['train'], dataset['test']"
   ]
  },
  {
   "cell_type": "code",
   "execution_count": 57,
   "metadata": {},
   "outputs": [],
   "source": [
    "BATCH_SIZE = 16\n",
    "train_dataset = train_dataset.cache().repeat().shuffle(num_train_examples).batch(BATCH_SIZE)\n",
    "test_dataset = test_dataset.cache().batch(BATCH_SIZE)"
   ]
  },
  {
   "cell_type": "code",
   "execution_count": 58,
   "metadata": {},
   "outputs": [
    {
     "name": "stdout",
     "output_type": "stream",
     "text": [
      "Epoch 1/5\n",
      "3750/3750 [==============================] - 12s 3ms/step - loss: 2.4794 - accuracy: 0.7038\n",
      "Epoch 2/5\n",
      "3750/3750 [==============================] - 9s 2ms/step - loss: 0.6975 - accuracy: 0.7523\n",
      "Epoch 3/5\n",
      "3750/3750 [==============================] - 9s 2ms/step - loss: 0.6207 - accuracy: 0.7840\n",
      "Epoch 4/5\n",
      "3750/3750 [==============================] - 10s 3ms/step - loss: 0.5969 - accuracy: 0.7950\n",
      "Epoch 5/5\n",
      "3750/3750 [==============================] - 9s 3ms/step - loss: 0.5759 - accuracy: 0.8045\n",
      "625/625 [==============================] - 1s 2ms/step - loss: 0.6340 - accuracy: 0.7968\n",
      "acurácia 500 neuronios : 0.7968000173568726 \n"
     ]
    }
   ],
   "source": [
    "model = tf.keras.Sequential([\n",
    "    tf.keras.layers.Flatten(input_shape=(28, 28, 1)), #camada inicial: 28x28 e 1 canal ( tons de cinza), 1 neurônio por pixel, então \n",
    "    tf.keras.layers.Dense(128, activation=tf.nn.relu),# camada oculta, X neurônios usando relu como função de ativação\n",
    "    tf.keras.layers.Dense(10, activation=tf.nn.softmax) # como são 10 classes de saída então é um sofmax como função de ativação com 10 neurônios\n",
    "])\n",
    "model.compile(optimizer='adam',\n",
    "            loss=tf.keras.losses.SparseCategoricalCrossentropy(), #isso pq é uma classificação excludente\n",
    "            metrics=['accuracy'])\n",
    "\n",
    "model.fit(train_dataset, epochs=5, steps_per_epoch=math.ceil(num_train_examples/BATCH_SIZE))\n",
    "test_loss, test_accuracy = model.evaluate(test_dataset)\n",
    "print('acurácia {} neuronios : {} '.format(n_neuronios, test_accuracy))"
   ]
  },
  {
   "attachments": {},
   "cell_type": "markdown",
   "metadata": {},
   "source": [
    "Baixou bem a acurácia! Então deixar entre 0 e 1 realmente ajuda."
   ]
  },
  {
   "cell_type": "markdown",
   "metadata": {},
   "source": []
  }
 ],
 "metadata": {
  "kernelspec": {
   "display_name": "Python 3",
   "language": "python",
   "name": "python3"
  },
  "language_info": {
   "codemirror_mode": {
    "name": "ipython",
    "version": 3
   },
   "file_extension": ".py",
   "mimetype": "text/x-python",
   "name": "python",
   "nbconvert_exporter": "python",
   "pygments_lexer": "ipython3",
   "version": "3.8.10"
  },
  "orig_nbformat": 4,
  "vscode": {
   "interpreter": {
    "hash": "916dbcbb3f70747c44a77c7bcd40155683ae19c65e1c03b4aa3499c5328201f1"
   }
  }
 },
 "nbformat": 4,
 "nbformat_minor": 2
}
