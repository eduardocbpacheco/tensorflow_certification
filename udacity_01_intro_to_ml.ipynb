{
 "cells": [
  {
   "attachments": {},
   "cell_type": "markdown",
   "metadata": {},
   "source": [
    "### Notebook para estudo do curso Intro to Tensorflow for Deep Learning da Udacity\n",
    "\n",
    "Como primeiro exercício criaremos um modelo de machine learning com tensorflow que aprende a converter celsius para Farenheint a partir de alguns exemplos.\n",
    "\n",
    "A fórmula é:\n",
    "\n",
    "$$ f = c \\times 1.8 + 32 $$\n",
    "\n",
    "\n",
    "Primeiro vamos importar o tensorflow."
   ]
  },
  {
   "cell_type": "code",
   "execution_count": 2,
   "metadata": {},
   "outputs": [
    {
     "name": "stderr",
     "output_type": "stream",
     "text": [
      "2023-01-16 21:06:55.876479: I tensorflow/core/platform/cpu_feature_guard.cc:193] This TensorFlow binary is optimized with oneAPI Deep Neural Network Library (oneDNN) to use the following CPU instructions in performance-critical operations:  AVX2 FMA\n",
      "To enable them in other operations, rebuild TensorFlow with the appropriate compiler flags.\n",
      "2023-01-16 21:06:59.856855: W tensorflow/compiler/xla/stream_executor/platform/default/dso_loader.cc:64] Could not load dynamic library 'libcudart.so.11.0'; dlerror: libcudart.so.11.0: cannot open shared object file: No such file or directory\n",
      "2023-01-16 21:06:59.856909: I tensorflow/compiler/xla/stream_executor/cuda/cudart_stub.cc:29] Ignore above cudart dlerror if you do not have a GPU set up on your machine.\n",
      "2023-01-16 21:07:07.053434: W tensorflow/compiler/xla/stream_executor/platform/default/dso_loader.cc:64] Could not load dynamic library 'libnvinfer.so.7'; dlerror: libnvinfer.so.7: cannot open shared object file: No such file or directory\n",
      "2023-01-16 21:07:07.053679: W tensorflow/compiler/xla/stream_executor/platform/default/dso_loader.cc:64] Could not load dynamic library 'libnvinfer_plugin.so.7'; dlerror: libnvinfer_plugin.so.7: cannot open shared object file: No such file or directory\n",
      "2023-01-16 21:07:07.053700: W tensorflow/compiler/tf2tensorrt/utils/py_utils.cc:38] TF-TRT Warning: Cannot dlopen some TensorRT libraries. If you would like to use Nvidia GPU with TensorRT, please make sure the missing libraries mentioned above are installed properly.\n"
     ]
    }
   ],
   "source": [
    "import tensorflow as tf"
   ]
  },
  {
   "cell_type": "code",
   "execution_count": 3,
   "metadata": {},
   "outputs": [],
   "source": [
    "import numpy as np\n",
    "import logging\n",
    "logger = tf.get_logger()\n",
    "logger.setLevel(logging.ERROR)"
   ]
  },
  {
   "attachments": {},
   "cell_type": "markdown",
   "metadata": {},
   "source": [
    "Agora vamos preparar os dados de treino (uma pequena lista de temperaturas em celsius e Farenheint):\n"
   ]
  },
  {
   "cell_type": "code",
   "execution_count": 4,
   "metadata": {},
   "outputs": [
    {
     "name": "stdout",
     "output_type": "stream",
     "text": [
      "-40.0 graus Celsius = -40.0 graus Fahrenheit\n",
      "-10.0 graus Celsius = 14.0 graus Fahrenheit\n",
      "0.0 graus Celsius = 32.0 graus Fahrenheit\n",
      "8.0 graus Celsius = 46.0 graus Fahrenheit\n",
      "15.0 graus Celsius = 59.0 graus Fahrenheit\n",
      "22.0 graus Celsius = 72.0 graus Fahrenheit\n",
      "38.0 graus Celsius = 100.0 graus Fahrenheit\n"
     ]
    }
   ],
   "source": [
    "celsius_q    = np.array([-40, -10,  0,  8, 15, 22,  38],  dtype=float)\n",
    "fahrenheit_a = np.array([-40,  14, 32, 46, 59, 72, 100],  dtype=float)\n",
    "\n",
    "for i,c in enumerate(celsius_q):\n",
    "  print(\"{} graus Celsius = {} graus Fahrenheit\".format(c, fahrenheit_a[i]))"
   ]
  },
  {
   "attachments": {},
   "cell_type": "markdown",
   "metadata": {},
   "source": [
    "O próximo passo é criar uma camada. Um tipo de neurônio ( e de camada de neurônios) é a Dense ( que simplesmente conecta todos os nós da camada anterior).\n",
    "\n",
    "O input shape diz qual o formato de entrada: nesse caso um array de 1 dimensão com um único elemento. E a quantidade de neurônios é dada por \"units\"."
   ]
  },
  {
   "cell_type": "code",
   "execution_count": 5,
   "metadata": {},
   "outputs": [],
   "source": [
    "l0 = tf.keras.layers.Dense(units=1, input_shape=[1]) # camada zero, para fins didáticos"
   ]
  },
  {
   "cell_type": "markdown",
   "metadata": {},
   "source": [
    "O modelo usará o framework Sequential, que simplesmente liga os neurônios na ordem passada em uma lista, sequencialmente."
   ]
  },
  {
   "cell_type": "code",
   "execution_count": 6,
   "metadata": {},
   "outputs": [
    {
     "name": "stderr",
     "output_type": "stream",
     "text": [
      "2023-01-16 21:11:51.080843: W tensorflow/compiler/xla/stream_executor/platform/default/dso_loader.cc:64] Could not load dynamic library 'libcuda.so.1'; dlerror: libcuda.so.1: cannot open shared object file: No such file or directory\n",
      "2023-01-16 21:11:51.090293: W tensorflow/compiler/xla/stream_executor/cuda/cuda_driver.cc:265] failed call to cuInit: UNKNOWN ERROR (303)\n",
      "2023-01-16 21:11:51.090353: I tensorflow/compiler/xla/stream_executor/cuda/cuda_diagnostics.cc:156] kernel driver does not appear to be running on this host (edu-VJFE42F11X-XXXXXX): /proc/driver/nvidia/version does not exist\n",
      "2023-01-16 21:11:51.142594: I tensorflow/core/platform/cpu_feature_guard.cc:193] This TensorFlow binary is optimized with oneAPI Deep Neural Network Library (oneDNN) to use the following CPU instructions in performance-critical operations:  AVX2 FMA\n",
      "To enable them in other operations, rebuild TensorFlow with the appropriate compiler flags.\n"
     ]
    }
   ],
   "source": [
    "model = tf.keras.Sequential([l0]) # passando a camada l0 para o modelo, que implementa o framework Sequential "
   ]
  },
  {
   "attachments": {},
   "cell_type": "markdown",
   "metadata": {},
   "source": [
    "Agora precisamos compilar o modelo. Para isso precisamos saber duas coisas. A primeira é uma forma de medir o quanto o modelo está acertando ou errando, de modo que durante o aprendizado ele seja capaz de identificar se precisa ir pelo caminhio que foi ou se precisa tentar outro caminho. Isso é dado pela função de perda, ou loss function. \n",
    "\n",
    "A outra coisa que precisamos saber é qual o otimizador. O otimizador é uma função que decide qual direção tomar de modo a reduzir a função de perda."
   ]
  },
  {
   "cell_type": "code",
   "execution_count": 8,
   "metadata": {},
   "outputs": [],
   "source": [
    "model.compile(loss='mean_squared_error',\n",
    "              optimizer=tf.keras.optimizers.Adam(0.1)) # o otimizador é Adam, e a função de perda é o MSE. O 0.1 se refere ao learning_rate, que é a taxa de aprendizado"
   ]
  },
  {
   "cell_type": "markdown",
   "metadata": {},
   "source": [
    "Para treinar o modelo usando o método fit. Enquanto a compilação cria a estrutura da rede neural, o método fit recebe as entradas, as saídas, o jeito de saber se acertou ou error ( a loss function ) e o otimizador. Com isso, o tensorflow modifica os pesos dos neurônios (na estrutura compilada) de forma a reduzir a loss function."
   ]
  },
  {
   "cell_type": "code",
   "execution_count": 9,
   "metadata": {},
   "outputs": [
    {
     "name": "stdout",
     "output_type": "stream",
     "text": [
      "Modelo treinado com sucesso\n"
     ]
    }
   ],
   "source": [
    "history = model.fit(celsius_q, fahrenheit_a, epochs=500, verbose=False) # o número de épocas é quantas vezes o processo todo que o otimizador tenta reduzir a loss function acontece\n",
    "print(\"Modelo treinado com sucesso\")"
   ]
  },
  {
   "cell_type": "markdown",
   "metadata": {},
   "source": [
    "Vamos ver como foi o treino. Para isso vamos avaliar o history da loss function pra ver como ela evoluiu durante o treino."
   ]
  },
  {
   "cell_type": "code",
   "execution_count": 13,
   "metadata": {},
   "outputs": [
    {
     "data": {
      "text/plain": [
       "[<matplotlib.lines.Line2D at 0x7f493133bd90>]"
      ]
     },
     "execution_count": 13,
     "metadata": {},
     "output_type": "execute_result"
    },
    {
     "data": {
      "image/png": "[encoded data removed]",
      "text/plain": [
       "<Figure size 640x480 with 1 Axes>"
      ]
     },
     "metadata": {},
     "output_type": "display_data"
    }
   ],
   "source": [
    "import matplotlib.pyplot as plt\n",
    "plt.xlabel('Número da época')\n",
    "plt.ylabel(\"Loss (MSE)\")\n",
    "plt.plot(history.history['loss'])"
   ]
  },
  {
   "attachments": {},
   "cell_type": "markdown",
   "metadata": {},
   "source": [
    "Para ver se nosso modelo acertou vamos fazer uma pequena função que converte Celsius para Farenheint **sabendo** da fórmula. Após isso testaremos as previsões do nosso modelo que **não conhece a fórmula previamente** e sim que aprendeu pelos casos passados para treinar."
   ]
  },
  {
   "cell_type": "code",
   "execution_count": 14,
   "metadata": {},
   "outputs": [],
   "source": [
    "def c_to_F(C):\n",
    "    ''' converte uma temperatura de Celsius para Farenheint'''\n",
    "    F = C * 1.8 + 32\n",
    "    return F"
   ]
  },
  {
   "cell_type": "code",
   "execution_count": 16,
   "metadata": {},
   "outputs": [
    {
     "name": "stdout",
     "output_type": "stream",
     "text": [
      "100 graus C fica\n",
      "pela fórmula  212.0 graus F\n",
      "1/1 [==============================] - 0s 204ms/step\n",
      "pelo modelo [[211.29062]]\n",
      "50 graus C fica\n",
      "pela fórmula  122.0 graus F\n",
      "1/1 [==============================] - 0s 35ms/step\n",
      "pelo modelo [[119.942696]]\n",
      "0 graus C fica\n",
      "pela fórmula  32.0 graus F\n",
      "1/1 [==============================] - 0s 35ms/step\n",
      "pelo modelo [[28.59478]]\n",
      "150 graus C fica\n",
      "pela fórmula  302.0 graus F\n",
      "1/1 [==============================] - 0s 37ms/step\n",
      "pelo modelo [[302.63852]]\n",
      "36.5 graus C fica\n",
      "pela fórmula  97.7 graus F\n",
      "1/1 [==============================] - 0s 58ms/step\n",
      "pelo modelo [[95.278755]]\n"
     ]
    }
   ],
   "source": [
    "temperaturas = [100, 50, 0, 150, 36.5]\n",
    "\n",
    "for t in temperaturas:\n",
    "    print(t, 'graus C fica')\n",
    "    print('pela fórmula ',c_to_F(t), 'graus F')\n",
    "    print('pelo modelo', model.predict([t]))"
   ]
  },
  {
   "attachments": {},
   "cell_type": "markdown",
   "metadata": {},
   "source": [
    "O modelo acerta até que bem.\n",
    "\n",
    "Os pesos encontrados são:"
   ]
  },
  {
   "cell_type": "code",
   "execution_count": 17,
   "metadata": {},
   "outputs": [
    {
     "name": "stdout",
     "output_type": "stream",
     "text": [
      "Pesos: [array([[1.8269583]], dtype=float32), array([28.59478], dtype=float32)]\n"
     ]
    }
   ],
   "source": [
    "print(\"Pesos: {}\".format(l0.get_weights()))"
   ]
  },
  {
   "attachments": {},
   "cell_type": "markdown",
   "metadata": {},
   "source": [
    "O primeiro valor tem o 1.8 da fórmula, e o segundo 28.5 (perto dos 32). "
   ]
  },
  {
   "attachments": {},
   "cell_type": "markdown",
   "metadata": {},
   "source": [
    "Se porém criarmos um modelo com muitas camadas então esses pesos ficam espalhados:"
   ]
  },
  {
   "cell_type": "code",
   "execution_count": 19,
   "metadata": {},
   "outputs": [
    {
     "name": "stdout",
     "output_type": "stream",
     "text": [
      "Modelo treinado.\n",
      "1/1 [==============================] - 0s 64ms/step\n",
      "[[211.74745]]\n",
      "1/1 [==============================] - 0s 38ms/step\n",
      "o modelo prediz que 100 graus Celsius = [[211.74745]] graus Fahrenheit\n",
      "These are the l0 variables: [array([[-0.3243924 , -0.22467528,  0.4695681 ,  0.0024241 ]],\n",
      "      dtype=float32), array([-3.092373  , -3.0527852 ,  3.1429803 , -0.27978337], dtype=float32)]\n",
      "These are the l1 variables: [array([[-0.4579998 ,  0.08927165, -1.0103703 , -0.9964259 ],\n",
      "       [-0.18925792,  0.345951  , -1.1809263 , -0.97324   ],\n",
      "       [-0.41002396, -0.07075675,  0.6511522 ,  0.27088553],\n",
      "       [-0.83431923, -0.9331386 , -0.34044498, -0.46981564]],\n",
      "      dtype=float32), array([ 2.0827773, -2.921048 ,  3.1420069,  3.1101878], dtype=float32)]\n",
      "These are the l2 variables: [array([[ 0.27390286],\n",
      "       [-1.1428149 ],\n",
      "       [ 0.99764127],\n",
      "       [ 1.1086389 ]], dtype=float32), array([3.0758154], dtype=float32)]\n"
     ]
    }
   ],
   "source": [
    "l0 = tf.keras.layers.Dense(units=4, input_shape=[1])\n",
    "l1 = tf.keras.layers.Dense(units=4)\n",
    "l2 = tf.keras.layers.Dense(units=1)\n",
    "model = tf.keras.Sequential([l0, l1, l2])\n",
    "model.compile(loss='mean_squared_error', optimizer=tf.keras.optimizers.Adam(0.1))\n",
    "model.fit(celsius_q, fahrenheit_a, epochs=500, verbose=False)\n",
    "print(\"Modelo treinado.\")\n",
    "print(model.predict([100.0]))\n",
    "print(\"o modelo prediz que 100 graus Celsius = {} graus Fahrenheit\".format(model.predict([100.0])))\n",
    "print(\"These are the l0 variables: {}\".format(l0.get_weights()))\n",
    "print(\"These are the l1 variables: {}\".format(l1.get_weights()))\n",
    "print(\"These are the l2 variables: {}\".format(l2.get_weights()))"
   ]
  },
  {
   "cell_type": "code",
   "execution_count": null,
   "metadata": {},
   "outputs": [],
   "source": []
  }
 ],
 "metadata": {
  "kernelspec": {
   "display_name": "Python 3",
   "language": "python",
   "name": "python3"
  },
  "language_info": {
   "codemirror_mode": {
    "name": "ipython",
    "version": 3
   },
   "file_extension": ".py",
   "mimetype": "text/x-python",
   "name": "python",
   "nbconvert_exporter": "python",
   "pygments_lexer": "ipython3",
   "version": "3.8.10"
  },
  "orig_nbformat": 4,
  "vscode": {
   "interpreter": {
    "hash": "916dbcbb3f70747c44a77c7bcd40155683ae19c65e1c03b4aa3499c5328201f1"
   }
  }
 },
 "nbformat": 4,
 "nbformat_minor": 2
}
